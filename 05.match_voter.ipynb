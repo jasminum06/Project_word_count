{
 "cells": [
  {
   "cell_type": "code",
   "execution_count": null,
   "metadata": {},
   "outputs": [],
   "source": [
    "import pyarrow\n",
    "import pyarrow.parquet as pq\n",
    "from pathlib import Path\n",
    "import pandas as pd"
   ]
  },
  {
   "cell_type": "code",
   "execution_count": null,
   "metadata": {},
   "outputs": [],
   "source": [
    "full_names = pd.read_csv(\"filtered_user_unique_full_name.csv\")"
   ]
  },
  {
   "cell_type": "code",
   "execution_count": null,
   "metadata": {},
   "outputs": [],
   "source": [
    "cwd = Path.cwd()\n",
    "parquet_files = list(cwd.glob(\"AllNYS*.parquet\"))"
   ]
  },
  {
   "cell_type": "code",
   "execution_count": null,
   "metadata": {},
   "outputs": [],
   "source": [
    "for parquet_file in parquet_files:\n",
    "    print(parquet_file)\n",
    "    data = pq.ParquetFile(parquet_file)\n",
    "    n_row_groups = data.num_row_groups\n",
    "    all_merged_data = []\n",
    "    for ri in range(n_row_groups):\n",
    "        if ri % 20 == 0:\n",
    "            print(\"processing row group \", ri, \" out of \", n_row_groups)\n",
    "        table = data.read_row_group(ri).to_pandas()\n",
    "        for char in [\"-\", \"_\", \"+\", \"%\", \"&\", \"*\", \"(\", \")\", \":\", \";\", \",\", \"!\", \"?\"]:\n",
    "            table[\"First_Name\"] = table[\"First_Name\"].str.replace(char, \" \")\n",
    "            table[\"Last_Name\"] = table[\"Last_Name\"].str.replace(char, \" \")\n",
    "        table[\"firstname_cleaned\"] = table[\"First_Name\"].str.strip().str.lower()\n",
    "        table[\"lastname_cleaned\"] = table[\"Last_Name\"].str.strip().str.lower()\n",
    "        table[\"full_name\"] = table[\"firstname_cleaned\"] + \" \" + table[\"lastname_cleaned\"]\n",
    "        table.drop_duplicates(subset=[\"full_name\"], keep=False, inplace=True)\n",
    "        table = table.merge(full_names, on=\"full_name\", how=\"inner\")        \n",
    "        all_merged_data.append(table)\n",
    "    all_merged_data = pd.concat(all_merged_data)\n",
    "    all_merged_data.to_csv(\"merged_voters/\" + parquet_file.stem + \".csv\", index=False)\n",
    "    print(all_merged_data.shape)\n",
    "    "
   ]
  },
  {
   "cell_type": "code",
   "execution_count": null,
   "metadata": {},
   "outputs": [],
   "source": [
    "# marge all the data\n",
    "merged_voter_dir = Path(\"merged_voters\")\n",
    "merged_voter_files = list(merged_voter_dir.glob(\"A*.csv\"))\n",
    "all_merged_data = []\n",
    "for merged_voter_file in merged_voter_files:\n",
    "    print(merged_voter_file)\n",
    "    table = pd.read_csv(merged_voter_file)\n",
    "    all_merged_data.append(table)\n",
    "all_merged_data = pd.concat(all_merged_data)\n",
    "all_merged_data.drop_duplicates(subset=[\"full_name\", \"SBOEID\"], keep=\"first\", inplace=True)\n",
    "all_merged_data.to_csv(merged_voter_dir/\"all_merged_voters.csv\", index=False)"
   ]
  },
  {
   "cell_type": "code",
   "execution_count": null,
   "metadata": {},
   "outputs": [],
   "source": [
    "all_voters_data = pd.read_csv(merged_voter_dir/\"all_merged_voters.csv\")\n",
    "all_user_data = pd.read_csv(\"filtered_user_unique_full_name.csv\")\n",
    "# merge on `user_id`\n",
    "merged_data = all_voters_data.merge(all_user_data, on=\"user_id\", how=\"inner\")\n",
    "merged_data.to_csv(merged_voter_dir/\"all_merged_voters_with_user_id.csv\", index=False)\n",
    "print(merged_data.shape)"
   ]
  },
  {
   "cell_type": "code",
   "execution_count": null,
   "metadata": {},
   "outputs": [],
   "source": [
    "# group by `IBES_id` and count the number of names\n",
    "grouped_data = merged_data.groupby(\"IBES_id\").count().reset_index()\n"
   ]
  },
  {
   "cell_type": "code",
   "execution_count": null,
   "metadata": {},
   "outputs": [],
   "source": [
    "grouped_data = grouped_data[[\"IBES_id\", \"user_id\"]]\n",
    "grouped_data.columns = [\"IBES_id\", \"count\"]\n",
    "grouped_data.to_csv(merged_voter_dir/\"grouped_data.csv\", index=False)"
   ]
  }
 ],
 "metadata": {
  "kernelspec": {
   "display_name": "dev",
   "language": "python",
   "name": "python3"
  },
  "language_info": {
   "codemirror_mode": {
    "name": "ipython",
    "version": 3
   },
   "file_extension": ".py",
   "mimetype": "text/x-python",
   "name": "python",
   "nbconvert_exporter": "python",
   "pygments_lexer": "ipython3",
   "version": "3.9.13"
  }
 },
 "nbformat": 4,
 "nbformat_minor": 2
}
