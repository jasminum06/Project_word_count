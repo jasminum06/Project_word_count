{
 "cells": [
  {
   "cell_type": "code",
   "execution_count": null,
   "metadata": {},
   "outputs": [],
   "source": [
    "import pyarrow\n",
    "import pyarrow.parquet as pq\n",
    "from pathlib import Path\n",
    "import pandas as pd"
   ]
  },
  {
   "cell_type": "code",
   "execution_count": null,
   "metadata": {},
   "outputs": [],
   "source": [
    "data_path = Path(\"./files\")\n",
    "matched_result_file = Path(\"matched_result_manual_revised.final.v2.csv\")\n",
    "matched_result = pd.read_csv(matched_result_file)\n",
    "matched_result = matched_result[matched_result[\"is_matched\"] == \"y\"]\n",
    "matched_result = matched_result[[\"IBES_id\", \"final_parent_factset_name\", \"final_parent_factset_id\", \"ticker\", \"cusip\", \"sic\"]]\n",
    "parquet_files = list(data_path.glob(\"0*.parquet\"))\n",
    "result_dir = Path(\"./results\")"
   ]
  },
  {
   "cell_type": "code",
   "execution_count": null,
   "metadata": {},
   "outputs": [],
   "source": [
    "# show how many row groups are in the parquet file\n",
    "for parquet_file in parquet_files:\n",
    "    output_file = result_dir / parquet_file.name.replace(\".parquet\", \".csv\")\n",
    "    if output_file.exists():\n",
    "        continue\n",
    "    print(\"processing \", parquet_file)\n",
    "    data = pq.ParquetFile(parquet_file)\n",
    "    n_row_groups = data.num_row_groups\n",
    "    all_columns = data.schema.names\n",
    "    # exclude `companyurl`\n",
    "    if \"companyurl\" in all_columns:\n",
    "        all_columns.remove(\"companyurl\")\n",
    "    all_merged_data = []\n",
    "    for ri in range(n_row_groups):\n",
    "        print(\"processing row group \", ri, \" out of \", n_row_groups)\n",
    "        table = data.read_row_group(ri, columns=all_columns).to_pandas()\n",
    "        new_marged_table = pd.merge(table, matched_result, on=\"final_parent_factset_id\", how=\"inner\")\n",
    "        all_merged_data.append(new_marged_table)\n",
    "    all_merged_data = pd.concat(all_merged_data)\n",
    "    all_merged_data.to_csv(result_dir / parquet_file.name.replace(\".parquet\", \".csv\"), index=False)\n",
    "        \n",
    "        "
   ]
  },
  {
   "cell_type": "code",
   "execution_count": null,
   "metadata": {},
   "outputs": [],
   "source": [
    "all_merged_data.head().to_csv(\"result_example.csv\", index=False)"
   ]
  },
  {
   "cell_type": "code",
   "execution_count": null,
   "metadata": {},
   "outputs": [],
   "source": []
  }
 ],
 "metadata": {
  "kernelspec": {
   "display_name": "dev",
   "language": "python",
   "name": "python3"
  },
  "language_info": {
   "codemirror_mode": {
    "name": "ipython",
    "version": 3
   },
   "file_extension": ".py",
   "mimetype": "text/x-python",
   "name": "python",
   "nbconvert_exporter": "python",
   "pygments_lexer": "ipython3",
   "version": "3.9.13"
  }
 },
 "nbformat": 4,
 "nbformat_minor": 2
}
