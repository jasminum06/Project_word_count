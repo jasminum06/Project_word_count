{
 "cells": [
  {
   "cell_type": "code",
   "execution_count": null,
   "metadata": {},
   "outputs": [],
   "source": [
    "import pyarrow\n",
    "import pyarrow.parquet as pq\n",
    "from pathlib import Path\n",
    "import pandas as pd"
   ]
  },
  {
   "cell_type": "code",
   "execution_count": null,
   "metadata": {},
   "outputs": [],
   "source": [
    "data_path = Path(\"./files\")\n",
    "matched_result_file = Path(\"matched_result_manual_revised.final.v2.csv\")\n",
    "matched_result = pd.read_csv(matched_result_file)\n",
    "matched_result = matched_result[matched_result[\"is_matched\"] == \"y\"]\n",
    "matched_result = matched_result[[\"IBES_id\", \"final_parent_factset_name\", \"final_parent_factset_id\", \"ticker\", \"cusip\", \"sic\"]]\n",
    "parquet_files = list(data_path.glob(\"0*.parquet\"))\n",
    "result_dir = Path(\"./position_data\")"
   ]
  },
  {
   "cell_type": "code",
   "execution_count": null,
   "metadata": {},
   "outputs": [],
   "source": [
    "# show how many row groups are in the parquet file\n",
    "for parquet_file in parquet_files:\n",
    "    output_file = result_dir / parquet_file.name.replace(\".parquet\", \".csv\")\n",
    "    if output_file.exists():\n",
    "        continue\n",
    "    print(\"processing \", parquet_file)\n",
    "    data = pq.ParquetFile(parquet_file)\n",
    "    n_row_groups = data.num_row_groups\n",
    "    all_columns = data.schema.names\n",
    "    # exclude `companyurl`\n",
    "    if \"companyurl\" in all_columns:\n",
    "        all_columns.remove(\"companyurl\")\n",
    "    all_merged_data = []\n",
    "    for ri in range(n_row_groups):\n",
    "        print(\"processing row group \", ri, \" out of \", n_row_groups)\n",
    "        table = data.read_row_group(ri, columns=all_columns).to_pandas()\n",
    "        new_marged_table = pd.merge(table, matched_result, on=\"final_parent_factset_id\", how=\"inner\")\n",
    "        all_merged_data.append(new_marged_table)\n",
    "    all_merged_data = pd.concat(all_merged_data)\n",
    "    all_merged_data.to_csv(result_dir / parquet_file.name.replace(\".parquet\", \".csv\"), index=False)\n",
    "        \n",
    "        "
   ]
  },
  {
   "cell_type": "code",
   "execution_count": null,
   "metadata": {},
   "outputs": [],
   "source": [
    "all_position_data = list(result_dir.glob(\"*.csv\"))\n",
    "# find all positions at NY\n",
    "all_data = []\n",
    "for position in all_position_data:\n",
    "    df = pd.read_csv(position)\n",
    "    df = df[df[\"state\"] == \"NY\"]\n",
    "    all_data.append(df)\n",
    "    print(position, len(df))\n",
    "all_data = pd.concat(all_data)"
   ]
  },
  {
   "cell_type": "code",
   "execution_count": null,
   "metadata": {},
   "outputs": [],
   "source": [
    "all_data.to_csv(\"ny_positions.csv\", index=False)"
   ]
  },
  {
   "cell_type": "markdown",
   "metadata": {},
   "source": [
    "# Summarize the dataset"
   ]
  },
  {
   "cell_type": "markdown",
   "metadata": {},
   "source": [
    "* Brokers in Positions: How many brokers (based on IBES_id) are found in the positions dataset?\n",
    "* Position Count per Broker: For each broker, how many positions are recorded?\n",
    "* Unique Users per Broker: How many unique users (user_id) are there for each broker?\n",
    "* New York Users per Broker: Specifically for each broker, how many unique users are based in New York? Additionally, what percentage does this represent relative to all users and to all US users?"
   ]
  },
  {
   "cell_type": "code",
   "execution_count": null,
   "metadata": {},
   "outputs": [],
   "source": [
    "def summarize_data(data):\n",
    "    gdata = data[[\"IBES_id\", \"position_id\", \"user_id\"]]\n",
    "    # group by IBES_id\n",
    "    gdata = gdata.groupby(\"IBES_id\").agg({\"position_id\": \"count\", \"user_id\": \"nunique\"}).reset_index()\n",
    "    # rename columns\n",
    "    gdata = gdata.rename(columns={\"position_id\": \"number_of_positions\", \"user_id\": \"number_of_users\"})\n",
    "    # find US users and NY users\n",
    "    data_us_users = data[data[\"country\"] == \"United States\"]\n",
    "    data_ny_users = data_us_users[data_us_users[\"state\"] == \"NY\"]\n",
    "    # get number of users grouped by IBES_id\n",
    "    number_of_us_users = data_us_users.groupby(\"IBES_id\").agg({\"user_id\": \"nunique\"}).reset_index()\n",
    "    # rename column to avoid confusion\n",
    "    number_of_us_users = number_of_us_users.rename(columns={\"user_id\": \"number_of_users_US\"})\n",
    "    number_of_ny_users = data_ny_users.groupby(\"IBES_id\").agg({\"user_id\": \"nunique\"}).reset_index()\n",
    "    number_of_ny_users = number_of_ny_users.rename(columns={\"user_id\": \"number_of_users_NY\"})\n",
    "    # merge number of users\n",
    "    gdata = gdata.merge(number_of_us_users, on=\"IBES_id\", how=\"left\")\n",
    "    gdata = gdata.merge(number_of_ny_users, on=\"IBES_id\", how=\"left\")\n",
    "    gdata = gdata.fillna(0)\n",
    "    # set datatype to int\n",
    "    gdata[\"number_of_users_US\"] = gdata[\"number_of_users_US\"].astype(int)\n",
    "    gdata[\"number_of_users_NY\"] = gdata[\"number_of_users_NY\"].astype(int)\n",
    "    return gdata"
   ]
  },
  {
   "cell_type": "code",
   "execution_count": null,
   "metadata": {},
   "outputs": [],
   "source": [
    "all_result_files = list(result_dir.glob(\"*.csv\"))\n",
    "all_summary = []\n",
    "for result_file in all_result_files:\n",
    "    print(\"processing \", result_file)\n",
    "    df = pd.read_csv(result_file)\n",
    "    df_summary = summarize_data(df)\n",
    "    df_summary[\"file_name\"] = result_file.name\n",
    "    all_summary.append(df_summary)\n",
    "all_summary = pd.concat(all_summary)\n",
    "# group by IBES_id\n",
    "all_summary = all_summary.groupby(\"IBES_id\").agg({\"number_of_positions\": \"sum\", \"number_of_users\": \"sum\", \"number_of_users_US\": \"sum\", \"number_of_users_NY\": \"sum\"}).reset_index()\n",
    "# remove columns named \"file_name\""
   ]
  },
  {
   "cell_type": "code",
   "execution_count": 17,
   "metadata": {},
   "outputs": [],
   "source": [
    "all_summary[\"percentage_of_NY_users_in_US\"] = all_summary[\"number_of_users_NY\"] / all_summary[\"number_of_users_US\"]"
   ]
  },
  {
   "cell_type": "code",
   "execution_count": 19,
   "metadata": {},
   "outputs": [],
   "source": [
    "all_summary.to_csv(\"summary_broker_position_data.csv\", index=False)"
   ]
  }
 ],
 "metadata": {
  "kernelspec": {
   "display_name": "dev",
   "language": "python",
   "name": "python3"
  },
  "language_info": {
   "codemirror_mode": {
    "name": "ipython",
    "version": 3
   },
   "file_extension": ".py",
   "mimetype": "text/x-python",
   "name": "python",
   "nbconvert_exporter": "python",
   "pygments_lexer": "ipython3",
   "version": "3.9.13"
  }
 },
 "nbformat": 4,
 "nbformat_minor": 2
}
