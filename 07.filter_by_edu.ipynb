{
 "cells": [
  {
   "cell_type": "code",
   "execution_count": null,
   "metadata": {},
   "outputs": [],
   "source": [
    "import pyarrow\n",
    "import pyarrow.parquet as pq\n",
    "from pathlib import Path\n",
    "import pandas as pd\n",
    "import os"
   ]
  },
  {
   "cell_type": "code",
   "execution_count": null,
   "metadata": {},
   "outputs": [],
   "source": [
    "education_data_dir = Path(\"wetransfer_education\")\n",
    "voter_user_data_file = Path(\"merged_voters/voters_users_combined.csv\")"
   ]
  },
  {
   "cell_type": "code",
   "execution_count": null,
   "metadata": {},
   "outputs": [],
   "source": [
    "parquet_files = list(education_data_dir.glob(\"0*.parquet\"))\n",
    "voter_user_data = pd.read_csv(voter_user_data_file)"
   ]
  },
  {
   "cell_type": "code",
   "execution_count": null,
   "metadata": {},
   "outputs": [],
   "source": [
    "for parquet_file in parquet_files:\n",
    "    if os.path.exists(f\"voter_user_edu_data/{parquet_file.stem}.csv\"):\n",
    "        continue\n",
    "    print(f\"Processing {parquet_file.stem}\")\n",
    "    data = pq.ParquetFile(parquet_file)\n",
    "    n_row_groups = data.num_row_groups\n",
    "    all_data = []\n",
    "    for ri in range(n_row_groups):\n",
    "        table = data.read_row_group(ri).to_pandas()\n",
    "        all_data.append(table)\n",
    "    all_data = pd.concat(all_data)\n",
    "    merged_data = pd.merge(all_data, voter_user_data, on=\"user_id\", how=\"inner\")\n",
    "    merged_data.to_csv(f\"voter_user_edu_data/{parquet_file.stem}.csv\", index=False)\n",
    "    print(f\"Finished {parquet_file.stem}\")\n",
    "    # break"
   ]
  },
  {
   "cell_type": "code",
   "execution_count": null,
   "metadata": {},
   "outputs": [],
   "source": [
    "voter_user_edu_data_dir = Path(\"voter_user_edu_data\")\n",
    "csv_files = list(voter_user_edu_data_dir.glob(\"*.csv\"))\n",
    "all_data = []\n",
    "for csv_file in csv_files:\n",
    "    data = pd.read_csv(csv_file)\n",
    "    all_data.append(data)\n",
    "all_data = pd.concat(all_data)\n",
    "all_data.to_csv(\"voter_user_edu_data/all_data.csv\", index=False)"
   ]
  },
  {
   "cell_type": "code",
   "execution_count": null,
   "metadata": {},
   "outputs": [],
   "source": [
    "voter_user_edu_data = pd.read_csv(\"voter_user_edu_data/all_data.csv\")\n",
    "\n",
    "voter_user_edu_data[\"startdate_x\"] = pd.to_datetime(voter_user_edu_data[\"startdate_x\"], format='%Y-%m-%d')\n",
    "voter_user_edu_data[\"enddate_x\"] = pd.to_datetime(voter_user_edu_data[\"enddate_x\"], format='%Y-%m-%d')\n",
    "voter_user_edu_data['Date_Birth'] = voter_user_edu_data['Date_Birth'].astype(str).copy()\n",
    "voter_user_edu_data['Date_Birth'] = pd.to_datetime(voter_user_edu_data['Date_Birth'], format='%Y%m%d')\n",
    "voter_user_edu_data[\"degree\"] = voter_user_edu_data[\"degree\"].str.lower()\n",
    "print(\"number of rows: \", len(voter_user_edu_data))\n",
    "voter_user_edu_data[[\"startdate_x\", \"Date_Birth\", \"startdate_y\"]].head()"
   ]
  },
  {
   "cell_type": "code",
   "execution_count": null,
   "metadata": {},
   "outputs": [],
   "source": [
    "# get Bachelor's degree\n",
    "Bachelor_data = voter_user_edu_data[voter_user_edu_data[\"degree\"] == \"bachelor\"]\n",
    "print(\"number of Bachelor's degree\", len(Bachelor_data))\n",
    "# calculate the age when they start and end the Bachelor's degree\n",
    "# column \"startdate_x\" is the start date of the Bachelor's degree\n",
    "# column \"enddate_x\" is the end date of the Bachelor's degree\n",
    "# column \"Date_Birth\" is the date of birth\n",
    "Bachelor_data[\"age_start_Bachelor\"] = Bachelor_data[\"startdate_x\"] - Bachelor_data[\"Date_Birth\"]\n",
    "Bachelor_data[\"age_end_Bachelor\"] = Bachelor_data[\"enddate_x\"] - Bachelor_data[\"Date_Birth\"]\n",
    "Bachelor_data[\"age_start_Bachelor\"] = Bachelor_data[\"age_start_Bachelor\"].dt.days / 365\n",
    "Bachelor_data[\"age_end_Bachelor\"] = Bachelor_data[\"age_end_Bachelor\"].dt.days / 365\n",
    "Bachelor_data[[\"age_start_Bachelor\", \"age_end_Bachelor\"]].head()\n",
    "# get data if the age when they start the Bachelor's degree is within 16-21\n",
    "Bachelor_data = Bachelor_data[(Bachelor_data[\"age_start_Bachelor\"] >= 16) & (Bachelor_data[\"age_start_Bachelor\"] <= 21)]\n",
    "# get data if the age when they end the Bachelor's degree is within 20-26\n",
    "Bachelor_data = Bachelor_data[(Bachelor_data[\"age_end_Bachelor\"] >= 20) & (Bachelor_data[\"age_end_Bachelor\"] <= 26)]\n",
    "print(\"number of Bachelor's degree after filtering\", len(Bachelor_data))"
   ]
  },
  {
   "cell_type": "code",
   "execution_count": null,
   "metadata": {},
   "outputs": [],
   "source": [
    "# get PhD's degree\n",
    "PhD_data = voter_user_edu_data[voter_user_edu_data[\"degree\"] == \"doctor\"]\n",
    "print(\"number of PhD's degree\", len(PhD_data))\n",
    "# calculate the age when they start and end the PhD's degree\n",
    "# column \"startdate_x\" is the start date of the PhD's degree\n",
    "# column \"enddate_x\" is the end date of the PhD's degree\n",
    "# column \"Date_Birth\" is the date of birth\n",
    "PhD_data[\"age_start_PhD\"] = PhD_data[\"startdate_x\"] - PhD_data[\"Date_Birth\"]\n",
    "PhD_data[\"age_end_PhD\"] = PhD_data[\"enddate_x\"] - PhD_data[\"Date_Birth\"]\n",
    "PhD_data[\"age_start_PhD\"] = PhD_data[\"age_start_PhD\"].dt.days / 365\n",
    "PhD_data[\"age_end_PhD\"] = PhD_data[\"age_end_PhD\"].dt.days / 365\n",
    "PhD_data[[\"age_start_PhD\", \"age_end_PhD\"]].head()\n",
    "# get data if the age when they start the PhD's degree is within 22-26\n",
    "PhD_data = PhD_data[(PhD_data[\"age_start_PhD\"] >= 22) & (PhD_data[\"age_start_PhD\"] <= 26)]\n",
    "print(\"number of PhD's degree after filtering\", len(PhD_data))"
   ]
  },
  {
   "cell_type": "code",
   "execution_count": null,
   "metadata": {},
   "outputs": [],
   "source": [
    "# get Associate's degree\n",
    "Associate_data = voter_user_edu_data[voter_user_edu_data[\"degree\"] == \"associate\"]\n",
    "print(\"number of Associate's degree\", len(Associate_data))\n",
    "# calculate the age when they start and end the Associate's degree\n",
    "# column \"startdate_x\" is the start date of the Associate's degree\n",
    "# column \"enddate_x\" is the end date of the Associate's degree\n",
    "# column \"Date_Birth\" is the date of birth\n",
    "Associate_data[\"age_start_Associate\"] = Associate_data[\"startdate_x\"] - Associate_data[\"Date_Birth\"]\n",
    "Associate_data[\"age_end_Associate\"] = Associate_data[\"enddate_x\"] - Associate_data[\"Date_Birth\"]\n",
    "Associate_data[\"age_start_Associate\"] = Associate_data[\"age_start_Associate\"].dt.days / 365\n",
    "Associate_data[\"age_end_Associate\"] = Associate_data[\"age_end_Associate\"].dt.days / 365\n",
    "Associate_data[[\"age_start_Associate\", \"age_end_Associate\"]].head()\n",
    "# get data if the age when they start the Associate's degree is within 18-20\n",
    "Associate_data = Associate_data[(Associate_data[\"age_start_Associate\"] >= 18) & (Associate_data[\"age_start_Associate\"] <= 20)]\n",
    "print(\"number of Associate's degree after filtering\", len(Associate_data))"
   ]
  },
  {
   "cell_type": "code",
   "execution_count": null,
   "metadata": {},
   "outputs": [],
   "source": [
    "combine_data = pd.concat([Bachelor_data, PhD_data, Associate_data])\n",
    "print(\"number of combined data\", len(combine_data))\n",
    "combine_data.to_csv(\"voter_user_edu_data/voter_user_broker_edu.csv\", index=False)"
   ]
  }
 ],
 "metadata": {
  "kernelspec": {
   "display_name": "dev",
   "language": "python",
   "name": "python3"
  },
  "language_info": {
   "codemirror_mode": {
    "name": "ipython",
    "version": 3
   },
   "file_extension": ".py",
   "mimetype": "text/x-python",
   "name": "python",
   "nbconvert_exporter": "python",
   "pygments_lexer": "ipython3",
   "version": "3.9.13"
  }
 },
 "nbformat": 4,
 "nbformat_minor": 2
}
