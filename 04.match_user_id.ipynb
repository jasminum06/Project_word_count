{
 "cells": [
  {
   "cell_type": "code",
   "execution_count": null,
   "metadata": {},
   "outputs": [],
   "source": [
    "import pyarrow\n",
    "import pyarrow.parquet as pq\n",
    "from pathlib import Path\n",
    "import pandas as pd"
   ]
  },
  {
   "cell_type": "code",
   "execution_count": null,
   "metadata": {},
   "outputs": [],
   "source": [
    "user_data_dir = Path(\"/Volumes/One Touch/Downloads/files\")\n",
    "all_user_data = list(user_data_dir.glob(\"0*.parquet\"))\n",
    "ny_position_data_file = Path(\"ny_positions.csv\")\n",
    "result_dir = Path(\"filtered_user_data\")\n",
    "result_dir.mkdir(exist_ok=True)"
   ]
  },
  {
   "cell_type": "code",
   "execution_count": null,
   "metadata": {},
   "outputs": [],
   "source": [
    "ny_position_data = pd.read_csv(ny_position_data_file)\n",
    "ny_position_data[\"user_id\"] = ny_position_data[\"user_id\"].astype(int).astype(str)\n",
    "ny_position_data.drop_duplicates(subset=[\"user_id\"], inplace=True)"
   ]
  },
  {
   "cell_type": "code",
   "execution_count": null,
   "metadata": {},
   "outputs": [],
   "source": [
    "# show how many row groups are in the parquet file\n",
    "for parquet_file in all_user_data:\n",
    "    output_file = result_dir / parquet_file.name.replace(\".parquet\", \".csv\")\n",
    "    if output_file.exists():\n",
    "        continue\n",
    "    print(\"processing \", parquet_file)\n",
    "    data = pq.ParquetFile(parquet_file)\n",
    "    n_row_groups = data.num_row_groups\n",
    "    all_merged_data = []\n",
    "    for ri in range(n_row_groups):\n",
    "        if ri % 20 == 0:\n",
    "            print(\"processing row group \", ri, \" out of \", n_row_groups)\n",
    "        table = data.read_row_group(ri).to_pandas()\n",
    "        table[\"user_id\"] = table[\"user_id\"].astype(str)\n",
    "        new_marged_table = pd.merge(table, ny_position_data, on=\"user_id\", how=\"inner\")\n",
    "        all_merged_data.append(new_marged_table)\n",
    "    print(len(all_merged_data))\n",
    "    all_merged_data = pd.concat(all_merged_data)\n",
    "    all_merged_data.to_csv(result_dir / parquet_file.name.replace(\".parquet\", \".csv\"), index=False)\n",
    "        \n",
    "        "
   ]
  },
  {
   "cell_type": "code",
   "execution_count": null,
   "metadata": {},
   "outputs": [],
   "source": []
  }
 ],
 "metadata": {
  "kernelspec": {
   "display_name": "dev",
   "language": "python",
   "name": "python3"
  },
  "language_info": {
   "codemirror_mode": {
    "name": "ipython",
    "version": 3
   },
   "file_extension": ".py",
   "mimetype": "text/x-python",
   "name": "python",
   "nbconvert_exporter": "python",
   "pygments_lexer": "ipython3",
   "version": "3.9.13"
  }
 },
 "nbformat": 4,
 "nbformat_minor": 2
}
