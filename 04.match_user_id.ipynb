{
 "cells": [
  {
   "cell_type": "code",
   "execution_count": null,
   "metadata": {},
   "outputs": [],
   "source": [
    "import pyarrow\n",
    "import pyarrow.parquet as pq\n",
    "from pathlib import Path\n",
    "import pandas as pd"
   ]
  },
  {
   "cell_type": "code",
   "execution_count": null,
   "metadata": {},
   "outputs": [],
   "source": [
    "user_data_dir = Path(\"/Volumes/One Touch/Downloads/files\")\n",
    "all_user_data = list(user_data_dir.glob(\"0*.parquet\"))\n",
    "ny_position_data_file = Path(\"ny_positions.csv\")\n",
    "result_dir = Path(\"filtered_user_data\")\n",
    "result_dir.mkdir(exist_ok=True)"
   ]
  },
  {
   "cell_type": "code",
   "execution_count": null,
   "metadata": {},
   "outputs": [],
   "source": [
    "ny_position_data = pd.read_csv(ny_position_data_file)\n",
    "ny_position_data[\"user_id\"] = ny_position_data[\"user_id\"].astype(int).astype(str)\n",
    "ny_position_data.drop_duplicates(subset=[\"user_id\"], inplace=True)"
   ]
  },
  {
   "cell_type": "code",
   "execution_count": null,
   "metadata": {},
   "outputs": [],
   "source": [
    "# show how many row groups are in the parquet file\n",
    "for parquet_file in all_user_data:\n",
    "    output_file = result_dir / parquet_file.name.replace(\".parquet\", \".csv\")\n",
    "    if output_file.exists():\n",
    "        continue\n",
    "    print(\"processing \", parquet_file)\n",
    "    data = pq.ParquetFile(parquet_file)\n",
    "    n_row_groups = data.num_row_groups\n",
    "    all_merged_data = []\n",
    "    for ri in range(n_row_groups):\n",
    "        if ri % 20 == 0:\n",
    "            print(\"processing row group \", ri, \" out of \", n_row_groups)\n",
    "        table = data.read_row_group(ri).to_pandas()\n",
    "        table[\"user_id\"] = table[\"user_id\"].astype(str)\n",
    "        new_marged_table = pd.merge(table, ny_position_data, on=\"user_id\", how=\"inner\")\n",
    "        all_merged_data.append(new_marged_table)\n",
    "    print(len(all_merged_data))\n",
    "    all_merged_data = pd.concat(all_merged_data)\n",
    "    all_merged_data.to_csv(result_dir / parquet_file.name.replace(\".parquet\", \".csv\"), index=False)\n",
    "        \n",
    "        "
   ]
  },
  {
   "cell_type": "code",
   "execution_count": 2,
   "metadata": {},
   "outputs": [],
   "source": [
    "import pandas as pd\n",
    "from pathlib import  Path"
   ]
  },
  {
   "cell_type": "code",
   "execution_count": null,
   "metadata": {},
   "outputs": [
    {
     "name": "stdout",
     "output_type": "stream",
     "text": [
      "(362656, 3)\n"
     ]
    },
    {
     "ename": "KeyError",
     "evalue": "\"['IBES_id', 'final_parent_factset_name_y'] not in index\"",
     "output_type": "error",
     "traceback": [
      "\u001b[0;31m---------------------------------------------------------------------------\u001b[0m",
      "\u001b[0;31mKeyError\u001b[0m                                  Traceback (most recent call last)",
      "Input \u001b[0;32mIn [3]\u001b[0m, in \u001b[0;36m<cell line: 23>\u001b[0;34m()\u001b[0m\n\u001b[1;32m     20\u001b[0m \u001b[38;5;66;03m# remove duplicates, only keep unique `full_name`\u001b[39;00m\n\u001b[1;32m     21\u001b[0m \u001b[38;5;66;03m# if a user has multiple `full_name`, remove them all\u001b[39;00m\n\u001b[1;32m     22\u001b[0m all_data_noduplicate \u001b[38;5;241m=\u001b[39m all_data\u001b[38;5;241m.\u001b[39mdrop_duplicates(subset\u001b[38;5;241m=\u001b[39m[\u001b[38;5;124m\"\u001b[39m\u001b[38;5;124mfull_name\u001b[39m\u001b[38;5;124m\"\u001b[39m], keep\u001b[38;5;241m=\u001b[39m\u001b[38;5;28;01mFalse\u001b[39;00m)\n\u001b[0;32m---> 23\u001b[0m full_name \u001b[38;5;241m=\u001b[39m \u001b[43mall_data_noduplicate\u001b[49m\u001b[43m[\u001b[49m\u001b[43m[\u001b[49m\u001b[38;5;124;43m\"\u001b[39;49m\u001b[38;5;124;43mfull_name\u001b[39;49m\u001b[38;5;124;43m\"\u001b[39;49m\u001b[43m,\u001b[49m\u001b[43m \u001b[49m\u001b[38;5;124;43m\"\u001b[39;49m\u001b[38;5;124;43muser_id\u001b[39;49m\u001b[38;5;124;43m\"\u001b[39;49m\u001b[43m,\u001b[49m\u001b[43m \u001b[49m\u001b[38;5;124;43m\"\u001b[39;49m\u001b[38;5;124;43mIBES_id\u001b[39;49m\u001b[38;5;124;43m\"\u001b[39;49m\u001b[43m,\u001b[49m\u001b[43m \u001b[49m\u001b[38;5;124;43m\"\u001b[39;49m\u001b[38;5;124;43mfinal_parent_factset_name_y\u001b[39;49m\u001b[38;5;124;43m\"\u001b[39;49m\u001b[43m]\u001b[49m\u001b[43m]\u001b[49m\n\u001b[1;32m     24\u001b[0m full_name\u001b[38;5;241m.\u001b[39mto_csv(\u001b[38;5;124m\"\u001b[39m\u001b[38;5;124mfiltered_user_unique_full_name.csv\u001b[39m\u001b[38;5;124m\"\u001b[39m, index\u001b[38;5;241m=\u001b[39m\u001b[38;5;28;01mFalse\u001b[39;00m)\n\u001b[1;32m     25\u001b[0m full_name\u001b[38;5;241m.\u001b[39mshape\n",
      "File \u001b[0;32m~/opt/anaconda3/envs/dev/lib/python3.9/site-packages/pandas/core/frame.py:3511\u001b[0m, in \u001b[0;36mDataFrame.__getitem__\u001b[0;34m(self, key)\u001b[0m\n\u001b[1;32m   3509\u001b[0m     \u001b[38;5;28;01mif\u001b[39;00m is_iterator(key):\n\u001b[1;32m   3510\u001b[0m         key \u001b[38;5;241m=\u001b[39m \u001b[38;5;28mlist\u001b[39m(key)\n\u001b[0;32m-> 3511\u001b[0m     indexer \u001b[38;5;241m=\u001b[39m \u001b[38;5;28;43mself\u001b[39;49m\u001b[38;5;241;43m.\u001b[39;49m\u001b[43mcolumns\u001b[49m\u001b[38;5;241;43m.\u001b[39;49m\u001b[43m_get_indexer_strict\u001b[49m\u001b[43m(\u001b[49m\u001b[43mkey\u001b[49m\u001b[43m,\u001b[49m\u001b[43m \u001b[49m\u001b[38;5;124;43m\"\u001b[39;49m\u001b[38;5;124;43mcolumns\u001b[39;49m\u001b[38;5;124;43m\"\u001b[39;49m\u001b[43m)\u001b[49m[\u001b[38;5;241m1\u001b[39m]\n\u001b[1;32m   3513\u001b[0m \u001b[38;5;66;03m# take() does not accept boolean indexers\u001b[39;00m\n\u001b[1;32m   3514\u001b[0m \u001b[38;5;28;01mif\u001b[39;00m \u001b[38;5;28mgetattr\u001b[39m(indexer, \u001b[38;5;124m\"\u001b[39m\u001b[38;5;124mdtype\u001b[39m\u001b[38;5;124m\"\u001b[39m, \u001b[38;5;28;01mNone\u001b[39;00m) \u001b[38;5;241m==\u001b[39m \u001b[38;5;28mbool\u001b[39m:\n",
      "File \u001b[0;32m~/opt/anaconda3/envs/dev/lib/python3.9/site-packages/pandas/core/indexes/base.py:5782\u001b[0m, in \u001b[0;36mIndex._get_indexer_strict\u001b[0;34m(self, key, axis_name)\u001b[0m\n\u001b[1;32m   5779\u001b[0m \u001b[38;5;28;01melse\u001b[39;00m:\n\u001b[1;32m   5780\u001b[0m     keyarr, indexer, new_indexer \u001b[38;5;241m=\u001b[39m \u001b[38;5;28mself\u001b[39m\u001b[38;5;241m.\u001b[39m_reindex_non_unique(keyarr)\n\u001b[0;32m-> 5782\u001b[0m \u001b[38;5;28;43mself\u001b[39;49m\u001b[38;5;241;43m.\u001b[39;49m\u001b[43m_raise_if_missing\u001b[49m\u001b[43m(\u001b[49m\u001b[43mkeyarr\u001b[49m\u001b[43m,\u001b[49m\u001b[43m \u001b[49m\u001b[43mindexer\u001b[49m\u001b[43m,\u001b[49m\u001b[43m \u001b[49m\u001b[43maxis_name\u001b[49m\u001b[43m)\u001b[49m\n\u001b[1;32m   5784\u001b[0m keyarr \u001b[38;5;241m=\u001b[39m \u001b[38;5;28mself\u001b[39m\u001b[38;5;241m.\u001b[39mtake(indexer)\n\u001b[1;32m   5785\u001b[0m \u001b[38;5;28;01mif\u001b[39;00m \u001b[38;5;28misinstance\u001b[39m(key, Index):\n\u001b[1;32m   5786\u001b[0m     \u001b[38;5;66;03m# GH 42790 - Preserve name from an Index\u001b[39;00m\n",
      "File \u001b[0;32m~/opt/anaconda3/envs/dev/lib/python3.9/site-packages/pandas/core/indexes/base.py:5845\u001b[0m, in \u001b[0;36mIndex._raise_if_missing\u001b[0;34m(self, key, indexer, axis_name)\u001b[0m\n\u001b[1;32m   5842\u001b[0m     \u001b[38;5;28;01mraise\u001b[39;00m \u001b[38;5;167;01mKeyError\u001b[39;00m(\u001b[38;5;124mf\u001b[39m\u001b[38;5;124m\"\u001b[39m\u001b[38;5;124mNone of [\u001b[39m\u001b[38;5;132;01m{\u001b[39;00mkey\u001b[38;5;132;01m}\u001b[39;00m\u001b[38;5;124m] are in the [\u001b[39m\u001b[38;5;132;01m{\u001b[39;00maxis_name\u001b[38;5;132;01m}\u001b[39;00m\u001b[38;5;124m]\u001b[39m\u001b[38;5;124m\"\u001b[39m)\n\u001b[1;32m   5844\u001b[0m not_found \u001b[38;5;241m=\u001b[39m \u001b[38;5;28mlist\u001b[39m(ensure_index(key)[missing_mask\u001b[38;5;241m.\u001b[39mnonzero()[\u001b[38;5;241m0\u001b[39m]]\u001b[38;5;241m.\u001b[39munique())\n\u001b[0;32m-> 5845\u001b[0m \u001b[38;5;28;01mraise\u001b[39;00m \u001b[38;5;167;01mKeyError\u001b[39;00m(\u001b[38;5;124mf\u001b[39m\u001b[38;5;124m\"\u001b[39m\u001b[38;5;132;01m{\u001b[39;00mnot_found\u001b[38;5;132;01m}\u001b[39;00m\u001b[38;5;124m not in index\u001b[39m\u001b[38;5;124m\"\u001b[39m)\n",
      "\u001b[0;31mKeyError\u001b[0m: \"['IBES_id', 'final_parent_factset_name_y'] not in index\""
     ]
    }
   ],
   "source": [
    "user_data_dir = Path(\"filtered_user_data\")\n",
    "user_data_files = list(user_data_dir.glob(\"*.csv\"))\n",
    "# merge all data into one dataframe, only columns [`user_id`,`firstname`,`lastname`]\n",
    "all_data = []\n",
    "for user_data_f in user_data_files:\n",
    "    # print(f\"Reading {user_data_f}\")\n",
    "    user_data = pd.read_csv(user_data_f, usecols=[\"user_id\", \"firstname\", \"lastname\", \"IBES_id\", \"final_parent_factset_name_y\"])\n",
    "    all_data.append(user_data)\n",
    "all_data = pd.concat(all_data, ignore_index=True)\n",
    "print(all_data.shape)\n",
    "# replace `-` with space\n",
    "# add a new column `full_name` which is the concatenation of `firstname` and `lastname`\n",
    "# clean first name and last name, lower case, remove leading and trailing spaces\n",
    "all_data[\"firstname\"] = all_data[\"firstname\"].str.replace(\"-\", \" \")\n",
    "all_data[\"lastname\"] = all_data[\"lastname\"].str.replace(\"-\", \" \")\n",
    "all_data[\"firstname_cleaned\"] = all_data[\"firstname\"].str.strip().str.lower()\n",
    "all_data[\"lastname_cleaned\"] = all_data[\"lastname\"].str.strip().str.lower()\n",
    "\n",
    "all_data[\"full_name\"] = all_data[\"firstname_cleaned\"] + \" \" + all_data[\"lastname_cleaned\"]\n",
    "# remove duplicates, only keep unique `full_name`\n",
    "# if a user has multiple `full_name`, remove them all\n",
    "all_data_noduplicate = all_data.drop_duplicates(subset=[\"full_name\"], keep=False)\n",
    "full_name = all_data_noduplicate[[\"full_name\", \"user_id\"]]\n",
    "full_name.to_csv(\"filtered_user_unique_full_name.csv\", index=False)\n",
    "full_name.shape"
   ]
  },
  {
   "cell_type": "code",
   "execution_count": null,
   "metadata": {},
   "outputs": [],
   "source": []
  }
 ],
 "metadata": {
  "kernelspec": {
   "display_name": "dev",
   "language": "python",
   "name": "python3"
  },
  "language_info": {
   "codemirror_mode": {
    "name": "ipython",
    "version": 3
   },
   "file_extension": ".py",
   "mimetype": "text/x-python",
   "name": "python",
   "nbconvert_exporter": "python",
   "pygments_lexer": "ipython3",
   "version": "3.9.13"
  }
 },
 "nbformat": 4,
 "nbformat_minor": 2
}
